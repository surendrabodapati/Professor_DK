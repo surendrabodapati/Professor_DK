{
  "nbformat": 4,
  "nbformat_minor": 0,
  "metadata": {
    "colab": {
      "name": "Copy of Model.ipynb",
      "provenance": [],
      "collapsed_sections": [],
      "include_colab_link": true
    },
    "kernelspec": {
      "name": "python3",
      "display_name": "Python 3"
    },
    "accelerator": "GPU"
  },
  "cells": [
    {
      "cell_type": "markdown",
      "metadata": {
        "id": "view-in-github",
        "colab_type": "text"
      },
      "source": [
        "<a href=\"https://colab.research.google.com/github/surendrabodapati/Professor_DK/blob/master/Copy_of_Model.ipynb\" target=\"_parent\"><img src=\"https://colab.research.google.com/assets/colab-badge.svg\" alt=\"Open In Colab\"/></a>"
      ]
    },
    {
      "cell_type": "code",
      "metadata": {
        "id": "mbfwLtHJ-Ucc"
      },
      "source": [
        "# Importing the required packages \n",
        "import cv2\n",
        "import numpy as np\n",
        "import os\n",
        "from zipfile import ZipFile\n",
        "import shutil\n",
        "import re\n",
        "import random\n",
        "import pandas as pd\n",
        "from keras.layers import Input, TimeDistributed, Conv2D, BatchNormalization, LSTM, Flatten, MaxPool2D, Dense, Dropout, concatenate\n",
        "from keras.models import Model, load_model\n",
        "from keras.optimizers import Adam\n",
        "from keras.utils import plot_model"
      ],
      "execution_count": 1,
      "outputs": []
    },
    {
      "cell_type": "code",
      "metadata": {
        "id": "28o_Vicn-Mrk",
        "colab": {
          "base_uri": "https://localhost:8080/"
        },
        "outputId": "48b6ebf0-005b-44cb-e5ee-f7a088a915cf"
      },
      "source": [
        "# Mounting the drive\n",
        "from google.colab import drive\n",
        "drive.mount('/content/gdrive')"
      ],
      "execution_count": 2,
      "outputs": [
        {
          "output_type": "stream",
          "text": [
            "Drive already mounted at /content/gdrive; to attempt to forcibly remount, call drive.mount(\"/content/gdrive\", force_remount=True).\n"
          ],
          "name": "stdout"
        }
      ]
    },
    {
      "cell_type": "code",
      "metadata": {
        "colab": {
          "base_uri": "https://localhost:8080/",
          "height": 35
        },
        "id": "9V3VFWXTB7Zc",
        "outputId": "dd63a3c5-94a9-4a50-c233-ef6a5a6d3fdf"
      },
      "source": [
        "os.chdir('/content/gdrive/MyDrive/train-1')\r\n",
        "os.getcwd()"
      ],
      "execution_count": 3,
      "outputs": [
        {
          "output_type": "execute_result",
          "data": {
            "application/vnd.google.colaboratory.intrinsic+json": {
              "type": "string"
            },
            "text/plain": [
              "'/content/gdrive/MyDrive/train-1'"
            ]
          },
          "metadata": {
            "tags": []
          },
          "execution_count": 3
        }
      ]
    },
    {
      "cell_type": "markdown",
      "metadata": {
        "id": "QYzOv7I21T4O"
      },
      "source": [
        "Getting the Train, Validation and Test annotations."
      ]
    },
    {
      "cell_type": "code",
      "metadata": {
        "id": "n1MHcJlNzT19"
      },
      "source": [
        "with ZipFile('/content/gdrive/My Drive/train-annotation.zip') as zf:  #already executed so stop@\n",
        "    zf.extractall()"
      ],
      "execution_count": 4,
      "outputs": []
    },
    {
      "cell_type": "code",
      "metadata": {
        "id": "p-sMwA_CNNFZ"
      },
      "source": [
        "# with ZipFile('gdrive/My Drive/val-annotation-e.zip') as zf:\n",
        "#     zf.extractall(pwd=b'') # password can be found on the First Impressions challenge website "
      ],
      "execution_count": 5,
      "outputs": []
    },
    {
      "cell_type": "code",
      "metadata": {
        "id": "34C6YuOV8UAM"
      },
      "source": [
        "# with ZipFile('gdrive/My Drive/test-annotation-e.zip') as zf:\n",
        "#     zf.extractall(pwd=b'') # password can be found on the First Impressions challenge website "
      ],
      "execution_count": 6,
      "outputs": []
    },
    {
      "cell_type": "code",
      "metadata": {
        "id": "RptrgzuDyiVl"
      },
      "source": [
        "#already executed so stop@\n",
        "\n",
        "# # *************** Extracting Training images frame for all Videos from the drive *********************\n",
        "# for i in range(1,2):\n",
        "#   print('Entering folder: ',i)\n",
        "#   with ZipFile(f'/content/gdrive/MyDrive/frames_{i}.zip') as zf:\n",
        "#     zf.extractall()"
      ],
      "execution_count": 7,
      "outputs": []
    },
    {
      "cell_type": "code",
      "metadata": {
        "id": "RXTJaoTC_a5V"
      },
      "source": [
        "# # *************** Extracting Validation images frame for all Videos from the drive *********************\n",
        "# for i in range(1,3):\n",
        "#   print('Entering folder: ',i)\n",
        "#   with ZipFile(f'gdrive/My Drive/val_frames_{i}.zip') as zf:\n",
        "#     zf.extractall()"
      ],
      "execution_count": 8,
      "outputs": []
    },
    {
      "cell_type": "code",
      "metadata": {
        "id": "7GWTiBhU9gt2"
      },
      "source": [
        "# # *************** Extracting Test image frames for all Videos from the drive *********************\n",
        "# with ZipFile(f'gdrive/My Drive/test_frames.zip') as zf:\n",
        "#   zf.extractall()"
      ],
      "execution_count": 9,
      "outputs": []
    },
    {
      "cell_type": "code",
      "metadata": {
        "id": "ka4ceSH40IuN"
      },
      "source": [
        "# #already executed so stop@\n",
        "# # *************** Extracting Training audio features for all Videos from the drive *********************\n",
        "# for i in range(1,2):\n",
        "#   print('Entering folder: ',i)\n",
        "#   with ZipFile(f'/content/gdrive/MyDrive/aud_feat.zip') as zf:\n",
        "#     zf.extractall()"
      ],
      "execution_count": 10,
      "outputs": []
    },
    {
      "cell_type": "code",
      "metadata": {
        "colab": {
          "base_uri": "https://localhost:8080/",
          "height": 35
        },
        "id": "XX4nTmdKIJrm",
        "outputId": "e4fd6051-0572-40c3-c140-d8c8d2c64c60"
      },
      "source": [
        "os.getcwd()"
      ],
      "execution_count": 5,
      "outputs": [
        {
          "output_type": "execute_result",
          "data": {
            "application/vnd.google.colaboratory.intrinsic+json": {
              "type": "string"
            },
            "text/plain": [
              "'/content/gdrive/My Drive/train-1'"
            ]
          },
          "metadata": {
            "tags": []
          },
          "execution_count": 5
        }
      ]
    },
    {
      "cell_type": "code",
      "metadata": {
        "id": "BDcE4Ddogglx"
      },
      "source": [
        "# # *************** Extracting Validation audio features for all Videos from the drive *********************\n",
        "# for i in range(1,3):\n",
        "#   print('Entering folder: ',i)\n",
        "#   with ZipFile(f'gdrive/My Drive/aud_val_{i}.zip') as zf:\n",
        "#     zf.extractall()"
      ],
      "execution_count": 12,
      "outputs": []
    },
    {
      "cell_type": "code",
      "metadata": {
        "id": "H8rK-XXG85o2"
      },
      "source": [
        "# # *************** Extracting Test audio features for all Videos from the drive *********************\n",
        "# with ZipFile(f'gdrive/My Drive/aud_test.zip') as zf:\n",
        "#   zf.extractall()"
      ],
      "execution_count": 13,
      "outputs": []
    },
    {
      "cell_type": "code",
      "metadata": {
        "id": "fgwD5m-UACvL",
        "colab": {
          "base_uri": "https://localhost:8080/"
        },
        "outputId": "e67844f1-a11b-4bda-cd31-8602b0ad90eb"
      },
      "source": [
        "print('Number of videos in training data: ', len(os.listdir('frames'))) \n",
        "#print('Number of videos in validation data: ', len(os.listdir('val_frames'))) "
      ],
      "execution_count": 6,
      "outputs": [
        {
          "output_type": "stream",
          "text": [
            "Number of videos in training data:  951\n"
          ],
          "name": "stdout"
        }
      ]
    },
    {
      "cell_type": "code",
      "metadata": {
        "id": "u_BqYVMiPJAz"
      },
      "source": [
        "for i in os.listdir('frames'):\r\n",
        "  print(i)"
      ],
      "execution_count": null,
      "outputs": []
    },
    {
      "cell_type": "code",
      "metadata": {
        "colab": {
          "base_uri": "https://localhost:8080/",
          "height": 35
        },
        "id": "LASPAB5iU4gH",
        "outputId": "df530505-b180-47e6-ab44-52f570aae9cf"
      },
      "source": [
        "os.getcwd()"
      ],
      "execution_count": 8,
      "outputs": [
        {
          "output_type": "execute_result",
          "data": {
            "application/vnd.google.colaboratory.intrinsic+json": {
              "type": "string"
            },
            "text/plain": [
              "'/content/gdrive/My Drive/train-1'"
            ]
          },
          "metadata": {
            "tags": []
          },
          "execution_count": 8
        }
      ]
    },
    {
      "cell_type": "code",
      "metadata": {
        "id": "-mEQyaJjguEM",
        "colab": {
          "base_uri": "https://localhost:8080/"
        },
        "outputId": "6c8abaa4-5cd2-4a82-8646-67d11a260dee"
      },
      "source": [
        "# cross checking with audio \n",
        "print('Number of videos in training data: ', len(os.listdir('output'))) \n",
        "#print('Number of videos in validation data: ', len(os.listdir('output_val'))) "
      ],
      "execution_count": 38,
      "outputs": [
        {
          "output_type": "stream",
          "text": [
            "Number of videos in training data:  951\n"
          ],
          "name": "stdout"
        }
      ]
    },
    {
      "cell_type": "code",
      "metadata": {
        "id": "c0bFI4kpO5Qv"
      },
      "source": [
        "for i in os.listdir('output'):\r\n",
        "  print(i)"
      ],
      "execution_count": null,
      "outputs": []
    },
    {
      "cell_type": "code",
      "metadata": {
        "id": "Ov_MAuUl0cxU"
      },
      "source": [
        "h = w = 150 # Height and Width of the Image\n",
        "c = 3 # Number of Channels\n",
        "time_steps = 15 # Frames extracted from the video \n",
        "aud_ft = 68 # Number of Audio features extracted from each non overlapping frame "
      ],
      "execution_count": 9,
      "outputs": []
    },
    {
      "cell_type": "markdown",
      "metadata": {
        "id": "HK8EXH0W2iFz"
      },
      "source": [
        "We remove all data for those videos which have less than 15 non overlapping audio frames."
      ]
    },
    {
      "cell_type": "code",
      "metadata": {
        "id": "4ZOx0-uOimwR",
        "colab": {
          "base_uri": "https://localhost:8080/"
        },
        "outputId": "2e461367-e266-450b-ec3e-034f4886aff6"
      },
      "source": [
        "l = []\n",
        "for i in os.listdir('/content/gdrive/MyDrive/train-1/output'):\n",
        "  data = pd.read_csv('/content/gdrive/MyDrive/train-1/output/'+i,header = None) # Change here for validation and test sets \n",
        "  if data.shape[0] !=15:\n",
        "    l.append(i)\n",
        "print(l)"
      ],
      "execution_count": 20,
      "outputs": [
        {
          "output_type": "stream",
          "text": [
            "[]\n"
          ],
          "name": "stdout"
        }
      ]
    },
    {
      "cell_type": "code",
      "metadata": {
        "colab": {
          "base_uri": "https://localhost:8080/"
        },
        "id": "X45GqJ9GyFbP",
        "outputId": "c9a871bb-c08e-4376-fd8e-b12da70e7b7f"
      },
      "source": [
        "print(len(l))"
      ],
      "execution_count": 21,
      "outputs": [
        {
          "output_type": "stream",
          "text": [
            "0\n"
          ],
          "name": "stdout"
        }
      ]
    },
    {
      "cell_type": "code",
      "metadata": {
        "colab": {
          "base_uri": "https://localhost:8080/"
        },
        "id": "IJcT_4br0jjE",
        "outputId": "a6b022de-baa4-4e9c-f43f-f51cd85af7cc"
      },
      "source": [
        "#removing extra files(.wav_mt.csv) 'c' represents total removed files\r\n",
        "c=0\r\n",
        "for i in os.listdir('output'):\r\n",
        "  if len(l)==0:\r\n",
        "    break\r\n",
        "  if '.wav_mt.csv' in i:\r\n",
        "    c+=1\r\n",
        "    os.remove('output/'+i)\r\n",
        "print(c)"
      ],
      "execution_count": 40,
      "outputs": [
        {
          "output_type": "stream",
          "text": [
            "0\n"
          ],
          "name": "stdout"
        }
      ]
    },
    {
      "cell_type": "code",
      "metadata": {
        "id": "-qgSSic6T4ff"
      },
      "source": [
        "for i in l:\r\n",
        "  name = i.split('.wav_st.csv')[0]\r\n",
        "  shutil.rmtree('/content/gdrive/MyDrive/train-1/frames/'+name)\r\n",
        "  os.remove('output/'+i)"
      ],
      "execution_count": 41,
      "outputs": []
    },
    {
      "cell_type": "code",
      "metadata": {
        "id": "Sy5spyX-z_rk"
      },
      "source": [
        "# Generator function to produce mini batches of the data \n",
        "def get_batches(flag = 'train', b_size = 16):\n",
        "  count = 0 # counter variable \n",
        "\n",
        "  if flag == 'validation': # val set\n",
        "    path_ = 'val_frames/' # Path to validation data \n",
        "    anot = pd.read_pickle('annotation_validation.pkl') # Getting the validation scores \n",
        "    path_aud = 'output_val'  # Path to validation audio features \n",
        "\n",
        "  else: # train\n",
        "    path_ = 'frames/' # Path to train data \n",
        "    anot = pd.read_pickle('annotation_training.pkl') # Getting the train scores \n",
        "    path_aud = 'output'  # Path to train audio features \n",
        "    \n",
        "  data = os.listdir(path_) # list of all videos \n",
        "  random.shuffle(data)\n",
        "\n",
        "  # looping over all videos\n",
        "  while count < len(data): \n",
        "\n",
        "    all_frames = np.empty((0,time_steps,h,w,c)) # numpy array of batch of videos \n",
        "    labels = np.empty((0,5)) # numpy array to contain the 5 personality scores\n",
        "    aud_2 = np.empty((0,time_steps,aud_ft))  # numpy array to contain the audio features \n",
        "    \n",
        "    if (count + b_size) <= len(data): \n",
        "      batch_size = b_size\n",
        "    else: \n",
        "      batch_size = len(data) % b_size # incase when len(data) is not a multiple of batch_size \n",
        "\n",
        "\n",
        "    for i in range(batch_size):\n",
        "       # getting names of all image frames in folder for i th video \n",
        "      f_name = os.listdir(path_ + data[count])\n",
        "      # sorting the image frame names sequentially\n",
        "      f_name.sort(key= lambda x: int(re.findall(r'[_][\\d]+',x)[0].split('_')[1]))  \n",
        "      frames_1 = [] # list to contain array of all image farmes of the ith video\n",
        "      for j in f_name: # looping over all frames in the ith video\n",
        "        img = cv2.imread(path_ +data[count] +'/'+j)\n",
        "        frames_1.append(img) # appending each frame array\n",
        "  \n",
        "      # stacking all frames in the batch after scaling each frame \n",
        "      all_frames = np.vstack((all_frames,(np.array(frames_1)/255)[np.newaxis,...])) \n",
        "      \n",
        "    \n",
        "      # extracting the labels\n",
        "      l = np.array([anot['extraversion'][data[count]+'.mp4'],anot['neuroticism'][data[count]+'.mp4'],anot['agreeableness'][data[count]+'.mp4'],anot['conscientiousness'][data[count]+'.mp4'],anot['openness'][data[count]+'.mp4']])\n",
        "      labels = np.vstack((labels,l[np.newaxis,...]))\n",
        "      \n",
        "      # getting audio features\n",
        "      aud = pd.read_csv(f'{path_aud}/{data[count]}.wav_st.csv',header=None)\n",
        "      aud_1 = np.array(aud) # flattened audio features \n",
        "      # combining audio features of the batch \n",
        "      aud_2 = np.vstack((aud_2,aud_1[np.newaxis,...]))\n",
        "\n",
        "      count += 1\n",
        "\n",
        "# after every epoch the counter must start again \n",
        "    if count >= len(data): \n",
        "      count = 0\n",
        "      random.shuffle(data)\n",
        "      \n",
        "    yield [all_frames,aud_2], labels  # should yield audio and visual input of the model in one list \n"
      ],
      "execution_count": 10,
      "outputs": []
    },
    {
      "cell_type": "code",
      "metadata": {
        "id": "SYKh0KuMAlxy"
      },
      "source": [
        "# Making objects for the train and validation generator\n",
        "train_batches = get_batches(flag = 'train', b_size = 8)\n",
        "#val_batches = get_batches(flag = 'validation', b_size = 8)"
      ],
      "execution_count": 11,
      "outputs": []
    },
    {
      "cell_type": "markdown",
      "metadata": {
        "id": "8v7Dpp336Fsx"
      },
      "source": [
        "<h1> Defining the Model using Keras Functional API </h1>"
      ]
    },
    {
      "cell_type": "code",
      "metadata": {
        "id": "mxNym7jTH4oR",
        "colab": {
          "base_uri": "https://localhost:8080/"
        },
        "outputId": "a9b050de-5772-4aa2-c871-eaa0bf0e2430"
      },
      "source": [
        "# Model Architecture\n",
        "\n",
        "# Dense layer for audio data \n",
        "input_aud = Input(shape=(time_steps, aud_ft))\n",
        "aud_mod = TimeDistributed(Dense(32, activation = 'relu'))(input_aud)\n",
        "\n",
        "\n",
        "# CNN-LSTM network \n",
        "\n",
        "# Convolutional model \n",
        "input_img = Input(shape=(time_steps, h, w, c)) \n",
        "\n",
        "conv_model = TimeDistributed(Conv2D(64, (3,3), padding='same', activation='relu') )(input_img)\n",
        "conv_model = TimeDistributed(Conv2D(64, (3,3), padding='same', activation='relu') )(conv_model)\n",
        "conv_model = TimeDistributed(BatchNormalization())(conv_model) # applying activation before BN\n",
        "conv_model = TimeDistributed(MaxPool2D(pool_size=(2,2),padding='same',strides=(2,2)))(conv_model) \n",
        "# max pooling with stride of two, it will move with two steps and then take the max \n",
        "\n",
        "conv_model = TimeDistributed(Conv2D(128, (3,3), padding='same', activation='relu') )(conv_model)\n",
        "conv_model = TimeDistributed(Conv2D(128, (3,3), padding='same', activation='relu') )(conv_model)\n",
        "conv_model = TimeDistributed(BatchNormalization())(conv_model) \n",
        "conv_model = TimeDistributed(MaxPool2D(pool_size=(2,2),padding='same'))(conv_model) #,strides=(2,2)\n",
        "\n",
        "conv_model = TimeDistributed(Conv2D(256, (3,3), padding='same', activation='relu') )(conv_model)\n",
        "conv_model = TimeDistributed(Conv2D(256, (3,3), padding='same', activation='relu') )(conv_model)\n",
        "conv_model = TimeDistributed(BatchNormalization())(conv_model) \n",
        "conv_model = TimeDistributed(MaxPool2D(pool_size=(2,2),padding='same'))(conv_model)\n",
        "\n",
        "\n",
        "# Flatten the output \n",
        "conv_model = TimeDistributed(Flatten())(conv_model)\n",
        "\n",
        "\n",
        "# concatenating audio features with image features \n",
        "comb_model = concatenate([aud_mod, conv_model]) \n",
        "\n",
        "# LSTM \n",
        "# For LSTMs the input has to be 3 dimensional, (number of sample, number of time_steps, number of features)\n",
        "lstm = LSTM(128, return_sequences=True,dropout=0.2,recurrent_dropout=0.2)(comb_model)\n",
        "# return_sequences = True for stacked LSTMs to provide one output for each time step to get a 3 dimensional array as output \n",
        "lstm = LSTM(128, return_sequences=False,dropout=0.2,recurrent_dropout=0.2)(lstm)\n",
        "\n",
        "# Feedforward output layers\n",
        "final_part = Dense(64,activation='relu')(lstm)\n",
        "final_part  = Dropout(0.5)(final_part )   \n",
        "output  = Dense(5,activation='sigmoid')(final_part ) # Sigmoid because we want each output to be between 0 and 1 \n",
        "# But the sum need not be equal to 1 unlike softmax \n",
        "\n",
        "model = Model([input_img,input_aud],output)  #[input_1,input_2]"
      ],
      "execution_count": 12,
      "outputs": [
        {
          "output_type": "stream",
          "text": [
            "WARNING:tensorflow:Layer lstm will not use cuDNN kernel since it doesn't meet the cuDNN kernel criteria. It will use generic GPU kernel as fallback when running on GPU\n",
            "WARNING:tensorflow:Layer lstm_1 will not use cuDNN kernel since it doesn't meet the cuDNN kernel criteria. It will use generic GPU kernel as fallback when running on GPU\n"
          ],
          "name": "stdout"
        }
      ]
    },
    {
      "cell_type": "code",
      "metadata": {
        "id": "9geU0l88bqGA"
      },
      "source": [
        "import keras.backend as k\n",
        "def mean_acc(y_true, y_pred):\n",
        "    diff = k.abs(y_true - y_pred)\n",
        "    return k.mean(1-diff)\n"
      ],
      "execution_count": 13,
      "outputs": []
    },
    {
      "cell_type": "code",
      "metadata": {
        "id": "5xROWhYRus0S",
        "colab": {
          "base_uri": "https://localhost:8080/",
          "height": 1000
        },
        "outputId": "6d017d6e-60f9-40a3-db12-3533f7df4e94"
      },
      "source": [
        "model.summary()\n",
        "plot_model(model)"
      ],
      "execution_count": 14,
      "outputs": [
        {
          "output_type": "stream",
          "text": [
            "Model: \"model\"\n",
            "__________________________________________________________________________________________________\n",
            "Layer (type)                    Output Shape         Param #     Connected to                     \n",
            "==================================================================================================\n",
            "input_2 (InputLayer)            [(None, 15, 150, 150 0                                            \n",
            "__________________________________________________________________________________________________\n",
            "time_distributed_1 (TimeDistrib (None, 15, 150, 150, 1792        input_2[0][0]                    \n",
            "__________________________________________________________________________________________________\n",
            "time_distributed_2 (TimeDistrib (None, 15, 150, 150, 36928       time_distributed_1[0][0]         \n",
            "__________________________________________________________________________________________________\n",
            "time_distributed_3 (TimeDistrib (None, 15, 150, 150, 256         time_distributed_2[0][0]         \n",
            "__________________________________________________________________________________________________\n",
            "time_distributed_4 (TimeDistrib (None, 15, 75, 75, 6 0           time_distributed_3[0][0]         \n",
            "__________________________________________________________________________________________________\n",
            "time_distributed_5 (TimeDistrib (None, 15, 75, 75, 1 73856       time_distributed_4[0][0]         \n",
            "__________________________________________________________________________________________________\n",
            "time_distributed_6 (TimeDistrib (None, 15, 75, 75, 1 147584      time_distributed_5[0][0]         \n",
            "__________________________________________________________________________________________________\n",
            "time_distributed_7 (TimeDistrib (None, 15, 75, 75, 1 512         time_distributed_6[0][0]         \n",
            "__________________________________________________________________________________________________\n",
            "time_distributed_8 (TimeDistrib (None, 15, 38, 38, 1 0           time_distributed_7[0][0]         \n",
            "__________________________________________________________________________________________________\n",
            "time_distributed_9 (TimeDistrib (None, 15, 38, 38, 2 295168      time_distributed_8[0][0]         \n",
            "__________________________________________________________________________________________________\n",
            "time_distributed_10 (TimeDistri (None, 15, 38, 38, 2 590080      time_distributed_9[0][0]         \n",
            "__________________________________________________________________________________________________\n",
            "time_distributed_11 (TimeDistri (None, 15, 38, 38, 2 1024        time_distributed_10[0][0]        \n",
            "__________________________________________________________________________________________________\n",
            "input_1 (InputLayer)            [(None, 15, 68)]     0                                            \n",
            "__________________________________________________________________________________________________\n",
            "time_distributed_12 (TimeDistri (None, 15, 19, 19, 2 0           time_distributed_11[0][0]        \n",
            "__________________________________________________________________________________________________\n",
            "time_distributed (TimeDistribut (None, 15, 32)       2208        input_1[0][0]                    \n",
            "__________________________________________________________________________________________________\n",
            "time_distributed_13 (TimeDistri (None, 15, 92416)    0           time_distributed_12[0][0]        \n",
            "__________________________________________________________________________________________________\n",
            "concatenate (Concatenate)       (None, 15, 92448)    0           time_distributed[0][0]           \n",
            "                                                                 time_distributed_13[0][0]        \n",
            "__________________________________________________________________________________________________\n",
            "lstm (LSTM)                     (None, 15, 128)      47399424    concatenate[0][0]                \n",
            "__________________________________________________________________________________________________\n",
            "lstm_1 (LSTM)                   (None, 128)          131584      lstm[0][0]                       \n",
            "__________________________________________________________________________________________________\n",
            "dense_1 (Dense)                 (None, 64)           8256        lstm_1[0][0]                     \n",
            "__________________________________________________________________________________________________\n",
            "dropout (Dropout)               (None, 64)           0           dense_1[0][0]                    \n",
            "__________________________________________________________________________________________________\n",
            "dense_2 (Dense)                 (None, 5)            325         dropout[0][0]                    \n",
            "==================================================================================================\n",
            "Total params: 48,688,997\n",
            "Trainable params: 48,688,101\n",
            "Non-trainable params: 896\n",
            "__________________________________________________________________________________________________\n"
          ],
          "name": "stdout"
        },
        {
          "output_type": "execute_result",
          "data": {
            "image/png": "[encoded data removed]",
            "text/plain": [
              "<IPython.core.display.Image object>"
            ]
          },
          "metadata": {
            "tags": []
          },
          "execution_count": 14
        }
      ]
    },
    {
      "cell_type": "code",
      "metadata": {
        "id": "p14oga8iQjz0"
      },
      "source": [
        "# Compiling the Model \n",
        "model.compile(loss= 'mse', optimizer= Adam(0.00001),metrics=[mean_acc])"
      ],
      "execution_count": 15,
      "outputs": []
    },
    {
      "cell_type": "code",
      "metadata": {
        "id": "ZVzg4tpgAt5g",
        "colab": {
          "base_uri": "https://localhost:8080/"
        },
        "outputId": "81ed4f55-2fde-423a-bd60-487982b412c1"
      },
      "source": [
        "# Training the model \n",
        "history_1 = model.fit(train_batches, epochs=1,steps_per_epoch= int((6000-48)/8))"
      ],
      "execution_count": 18,
      "outputs": [
        {
          "output_type": "stream",
          "text": [
            "744/744 [==============================] - 683s 918ms/step - loss: 0.0073 - mean_acc: 0.9342\n"
          ],
          "name": "stdout"
        }
      ]
    },
    {
      "cell_type": "code",
      "metadata": {
        "id": "A4Vsf1xEetm1"
      },
      "source": [
        "# Convert the history.history dict to a pandas DataFrame:     \n",
        "hist_df = pd.DataFrame(history_1.history) \n",
        "\n",
        "# and save to csv: \n",
        "hist_csv_file = '/content/gdrive/My Drive/hist_aud_vid_2.csv'\n",
        "with open(hist_csv_file, mode='w') as f:\n",
        "    hist_df.to_csv(f)"
      ],
      "execution_count": 19,
      "outputs": []
    },
    {
      "cell_type": "code",
      "metadata": {
        "id": "ABeuT9RceuQS"
      },
      "source": [
        "model.save('gdrive/My Drive/mod_aud_vid.h5') # Saving the model "
      ],
      "execution_count": 20,
      "outputs": []
    },
    {
      "cell_type": "code",
      "metadata": {
        "id": "r3TFNPFzYUUn",
        "colab": {
          "base_uri": "https://localhost:8080/"
        },
        "outputId": "bccb218c-451c-4164-9a85-0a2e2b10f1ad"
      },
      "source": [
        "model = load_model('gdrive/My Drive/mod_aud_vid.h5',custom_objects={'mean_acc': mean_acc}) # load custom metrics using this dictionary "
      ],
      "execution_count": 21,
      "outputs": [
        {
          "output_type": "stream",
          "text": [
            "WARNING:tensorflow:Layer lstm will not use cuDNN kernel since it doesn't meet the cuDNN kernel criteria. It will use generic GPU kernel as fallback when running on GPU\n",
            "WARNING:tensorflow:Layer lstm_1 will not use cuDNN kernel since it doesn't meet the cuDNN kernel criteria. It will use generic GPU kernel as fallback when running on GPU\n"
          ],
          "name": "stdout"
        }
      ]
    },
    {
      "cell_type": "code",
      "metadata": {
        "id": "4ixQHBtkByAx"
      },
      "source": [
        "# Generator function for the test data set \n",
        "count = 0 # counter variable \n",
        "\n",
        "path_ = 'test_frames/' # Path to test data \n",
        "anot = pd.read_pickle('annotation_test.pkl') # Getting the test scores \n",
        "path_aud = 'output_test' # Getting the Test audio features \n",
        "\n",
        "data = os.listdir(path_)\n",
        "\n",
        "labels = []\n",
        "pred =[]\n",
        "mean_acc_test = []\n",
        "\n",
        "# looping over all test videos\n",
        "while count < len(data):  \n",
        "    \n",
        "  f_name = os.listdir(path_ + data[count]) # getting names of all frames in video folder\n",
        "  f_name.sort(key= lambda x: int(re.findall(r'[_][\\d]+',x)[0].split('_')[1])) # sorting the frame names sequentially \n",
        "\n",
        "  frames_1 = [] # list to contain array of all farmes\n",
        "  for j in f_name: # looping over all frames in a video\n",
        "      img = cv2.imread(path_ +data[count] +'/'+j)\n",
        "      frames_1.append(img) # appending each frame array\n",
        "  frames_1 = np.array(frames_1)/255\n",
        "\n",
        "  # extracting the labels\n",
        "  l = np.array([anot['extraversion'][data[count]+'.mp4'],anot['neuroticism'][data[count]+'.mp4'],anot['agreeableness'][data[count]+'.mp4'],anot['conscientiousness'][data[count]+'.mp4'],anot['openness'][data[count]+'.mp4']])\n",
        "  labels.append(l)\n",
        "      \n",
        "  # getting audio features\n",
        "  aud = pd.read_csv(f'{path_aud}/{data[count]}.wav_st.csv',header=None)\n",
        "  aud_1 = np.array(aud) \n",
        "  \n",
        "  p = model.predict([frames_1[np.newaxis,...],aud_1[np.newaxis,...]])\n",
        "  pred.append(p)\n",
        "  \n",
        "  mean_acc_test.append(np.mean(1-np.absolute(l-p)))\n",
        "  count += 1\n",
        "  \n",
        "  if count%10 == 0:\n",
        "    print(count)"
      ],
      "execution_count": null,
      "outputs": []
    },
    {
      "cell_type": "code",
      "metadata": {
        "id": "E0kApit4ZMSF",
        "colab": {
          "base_uri": "https://localhost:8080/",
          "height": 163
        },
        "outputId": "ea8e5d80-1c13-4003-e1f7-975bce3dfba2"
      },
      "source": [
        "np.mean(mean_acc_test) # Getting the Total Mean Accuracy "
      ],
      "execution_count": 22,
      "outputs": [
        {
          "output_type": "error",
          "ename": "NameError",
          "evalue": "ignored",
          "traceback": [
            "\u001b[0;31m---------------------------------------------------------------------------\u001b[0m",
            "\u001b[0;31mNameError\u001b[0m                                 Traceback (most recent call last)",
            "\u001b[0;32m<ipython-input-22-a9229c6b201d>\u001b[0m in \u001b[0;36m<module>\u001b[0;34m()\u001b[0m\n\u001b[0;32m----> 1\u001b[0;31m \u001b[0mnp\u001b[0m\u001b[0;34m.\u001b[0m\u001b[0mmean\u001b[0m\u001b[0;34m(\u001b[0m\u001b[0mmean_acc_test\u001b[0m\u001b[0;34m)\u001b[0m \u001b[0;31m# Getting the Total Mean Accuracy\u001b[0m\u001b[0;34m\u001b[0m\u001b[0;34m\u001b[0m\u001b[0m\n\u001b[0m",
            "\u001b[0;31mNameError\u001b[0m: name 'mean_acc_test' is not defined"
          ]
        }
      ]
    },
    {
      "cell_type": "code",
      "metadata": {
        "id": "9BTiJd6NYyDU"
      },
      "source": [
        "# Function to get test Mean accuracy of each trait \n",
        "def each_trait_acc(j):  \n",
        "  trait_label = [i[j] for i in labels]\n",
        "  trait_pred = [i[0][j] for i in pred]\n",
        "  return np.mean(1-np.abs(np.array(trait_label)-np.array(trait_pred)))"
      ],
      "execution_count": null,
      "outputs": []
    },
    {
      "cell_type": "code",
      "metadata": {
        "id": "8lQEOWlAbyxp"
      },
      "source": [
        "each_trait_acc(0) # Mean Accuracy for Extraversion"
      ],
      "execution_count": null,
      "outputs": []
    },
    {
      "cell_type": "code",
      "metadata": {
        "id": "hbYXDs6Waacy"
      },
      "source": [
        "each_trait_acc(1) # Mean Accuracy for Neuroticism"
      ],
      "execution_count": null,
      "outputs": []
    },
    {
      "cell_type": "code",
      "metadata": {
        "id": "KIwGdClSajgV"
      },
      "source": [
        "each_trait_acc(2) # Mean Accuracy for Agreeablenss"
      ],
      "execution_count": null,
      "outputs": []
    },
    {
      "cell_type": "code",
      "metadata": {
        "id": "eCrIqkCvajxZ"
      },
      "source": [
        "each_trait_acc(3) # Mean Accuracy for Conscientiousness"
      ],
      "execution_count": null,
      "outputs": []
    },
    {
      "cell_type": "code",
      "metadata": {
        "id": "YuJz-0eDaj_P"
      },
      "source": [
        "each_trait_acc(4) # Mean Accuracy for Openenss"
      ],
      "execution_count": null,
      "outputs": []
    },
    {
      "cell_type": "code",
      "metadata": {
        "id": "sKyCRukOCi3b"
      },
      "source": [
        ""
      ],
      "execution_count": null,
      "outputs": []
    }
  ]
}